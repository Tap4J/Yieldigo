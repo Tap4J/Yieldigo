{
 "cells": [
  {
   "cell_type": "markdown",
   "id": "41c8a31e-a766-4ba9-9039-807e792d7744",
   "metadata": {},
   "source": [
    "# Scripting assignment"
   ]
  },
  {
   "cell_type": "markdown",
   "id": "d8f0b943-b22f-4b8f-bd03-2a57f84fb006",
   "metadata": {},
   "source": [
    "Code below is a Python implementation of one famous algorithm. Could you briefly\n",
    "walk us through its steps and tell us what the result would be?"
   ]
  },
  {
   "cell_type": "code",
   "execution_count": 16,
   "id": "64f6872c-bccd-452f-abed-699e80a3b5ed",
   "metadata": {},
   "outputs": [],
   "source": [
    "def bb(arr):\n",
    "    n = len(arr)\n",
    "    for i in range(n-1):\n",
    "        for j in range(0, n-i-1):\n",
    "            if arr[j] > arr[j+1] :\n",
    "                arr[j], arr[j+1] = arr[j+1], arr[j]"
   ]
  },
  {
   "cell_type": "markdown",
   "id": "f1891ee1-5983-495b-a6b8-0f8fc71188e1",
   "metadata": {},
   "source": [
    "### What it does?"
   ]
  },
  {
   "cell_type": "markdown",
   "id": "205862af-d595-4c38-bb3b-d5f0bf37ae50",
   "metadata": {},
   "source": [
    "- Algorithm sorts repeatedly through list, compare elements inside and swap the order.\n",
    "    - **n** is number of elements int the array\n",
    "    - **i** pass number, how many times it needs to go through array\n",
    "    - First loop **for i in range(n-1)** places next largest element to correct position\n",
    "    - Second loop **for j in range(0, n-i-1)** compares elements and swap the order. If it is not correct order n-i-1 should put largest element to the end. It also decreases after every pass."
   ]
  },
  {
   "cell_type": "markdown",
   "id": "7e9888f9-34b7-464d-98f9-49bcd3e813b2",
   "metadata": {},
   "source": [
    "**I' ll try this arr = [20,16,7,2,10]**\n",
    "\n",
    "The length is 5 elements. \n",
    "\n",
    "n = 5 \n",
    "\n",
    "Number of passes required\n",
    "\n",
    "For i in range (n - 1) = so 5 -1 = 4. \n",
    "\n",
    "\n",
    "**1st pass**\n",
    "\n",
    "n = 5\n",
    "\n",
    "i = 0\n",
    "\n",
    "n-i-1 = 5-0-1 = 4\n",
    "\n",
    "1. We compare arr[0] with arr[1]\n",
    "    20>16 - we swap\n",
    "2. We compare arr[1] with arr[2]\n",
    "    20>7 - we swap\n",
    "3. We compare arr[2] with arr[3]\n",
    "    20>2 - we swap\n",
    "4. We compare arr[3] with arr[4]\n",
    "    20>10 - we swap\n",
    "- So eventually I can see biggest number went to the end.\n",
    "\n",
    "**2nd pass** \n",
    "\n",
    "n = 5\n",
    "\n",
    "i = 1\n",
    "\n",
    "n-i-1 = 5-1-1 = 3\n",
    "\n",
    "1. We compare arr[0] with arr[1]\n",
    "    16>7 - we swap\n",
    "2. We compare arr[1] with arr[2]\n",
    "    16>2 - we swap\n",
    "3. We compare arr[2] with arr[3]\n",
    "    16>10 - we swap\n",
    "   \n",
    "**3rd pass**\n",
    "\n",
    "n= 5\n",
    "\n",
    "i = 2\n",
    "\n",
    "n-i-1 = 5-2-1 = 2\n",
    "1. We compare arr[0] with arr[1]\n",
    "    7>2 - we swap\n",
    "\n",
    "**4th pass**\n",
    "\n",
    "n= 5\n",
    "\n",
    "i = 3\n",
    "\n",
    "n-i-1 = 5-3-1 = 1\n",
    "1. We compare arr[0] with arr[1]\n",
    "    2>7 - we don't swap"
   ]
  },
  {
   "cell_type": "code",
   "execution_count": 17,
   "id": "a0608639-330c-4f94-aa29-2f84a1183b0a",
   "metadata": {},
   "outputs": [],
   "source": [
    "arr = [20,16,7,2,10]"
   ]
  },
  {
   "cell_type": "code",
   "execution_count": 18,
   "id": "c4dbbfc5-b4ad-4190-9a62-69ee927ecad8",
   "metadata": {},
   "outputs": [
    {
     "name": "stdout",
     "output_type": "stream",
     "text": [
      "[2, 7, 10, 16, 20]\n"
     ]
    }
   ],
   "source": [
    "bb(arr)\n",
    "print(arr)"
   ]
  },
  {
   "cell_type": "code",
   "execution_count": 19,
   "id": "2111ceef-634d-4fb6-9249-6d03b3e03c89",
   "metadata": {},
   "outputs": [],
   "source": [
    "arr1 = [\"tercius\", \"door\", \"red\", \"primary\", \"second\", \"one\", \"eight\"]"
   ]
  },
  {
   "cell_type": "code",
   "execution_count": 20,
   "id": "f40ee5ec-0938-45b3-b313-1e2ebd180287",
   "metadata": {},
   "outputs": [
    {
     "name": "stdout",
     "output_type": "stream",
     "text": [
      "['door', 'eight', 'one', 'primary', 'red', 'second', 'tercius']\n"
     ]
    }
   ],
   "source": [
    "bb(arr1)\n",
    "print(arr1)"
   ]
  },
  {
   "cell_type": "markdown",
   "id": "f6015155-26cc-4b29-82cf-358d03d964d4",
   "metadata": {},
   "source": [
    "I tried also comparing words. It compares elements based on Ascii values of characters"
   ]
  }
 ],
 "metadata": {
  "kernelspec": {
   "display_name": "Python 3 (ipykernel)",
   "language": "python",
   "name": "python3"
  },
  "language_info": {
   "codemirror_mode": {
    "name": "ipython",
    "version": 3
   },
   "file_extension": ".py",
   "mimetype": "text/x-python",
   "name": "python",
   "nbconvert_exporter": "python",
   "pygments_lexer": "ipython3",
   "version": "3.10.11"
  }
 },
 "nbformat": 4,
 "nbformat_minor": 5
}
