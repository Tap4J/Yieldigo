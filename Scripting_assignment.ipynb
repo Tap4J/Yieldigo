{
 "cells": [
  {
   "cell_type": "markdown",
   "id": "41c8a31e-a766-4ba9-9039-807e792d7744",
   "metadata": {},
   "source": [
    "# Scripting assignment"
   ]
  },
  {
   "cell_type": "markdown",
   "id": "d8f0b943-b22f-4b8f-bd03-2a57f84fb006",
   "metadata": {},
   "source": [
    "Code below is a Python implementation of one famous algorithm. Could you briefly\n",
    "walk us through its steps and tell us what the result would be?"
   ]
  },
  {
   "cell_type": "code",
   "execution_count": 2,
   "id": "64f6872c-bccd-452f-abed-699e80a3b5ed",
   "metadata": {},
   "outputs": [],
   "source": [
    "def bb(arr):\n",
    "    n = len(arr)\n",
    "    for i in range(n-1):\n",
    "        for j in range(0, n-i-1):\n",
    "            if arr[j] > arr[j+1] :\n",
    "                arr[j], arr[j+1] = arr[j+1], arr[j]"
   ]
  },
  {
   "cell_type": "markdown",
   "id": "f1891ee1-5983-495b-a6b8-0f8fc71188e1",
   "metadata": {},
   "source": [
    "### What it does?"
   ]
  },
  {
   "cell_type": "markdown",
   "id": "205862af-d595-4c38-bb3b-d5f0bf37ae50",
   "metadata": {},
   "source": [
    "- Algorithm sorts repeatedly through list, compare elements inside and swap the order.\n",
    "    - **n** is number of elements int the array\n",
    "    - **i** pass number, how many time it went through array\n",
    "    - First loop **for i in range(n-1)** places next largest element to correct position\n",
    "    - Second loop **for j in range(0, n-i-1)** compares elements and swap the order if it is not correct order. n-i-1 should put largest element to the end."
   ]
  },
  {
   "cell_type": "code",
   "execution_count": null,
   "id": "336ff987-72d8-419c-bf4a-a82d7ebfe31c",
   "metadata": {},
   "outputs": [],
   "source": []
  },
  {
   "cell_type": "code",
   "execution_count": null,
   "id": "fb2f7ab4-4769-4ef1-9c82-25eedc3d5fd2",
   "metadata": {},
   "outputs": [],
   "source": []
  },
  {
   "cell_type": "code",
   "execution_count": 13,
   "id": "a0608639-330c-4f94-aa29-2f84a1183b0a",
   "metadata": {},
   "outputs": [],
   "source": [
    "arr = [20,16,7,2,10]\n",
    "arr1 = [\"tercius\", \"door\", \"red\", \"primary\", \"second\"]"
   ]
  },
  {
   "cell_type": "code",
   "execution_count": 14,
   "id": "c4dbbfc5-b4ad-4190-9a62-69ee927ecad8",
   "metadata": {},
   "outputs": [
    {
     "name": "stdout",
     "output_type": "stream",
     "text": [
      "[2, 7, 10, 16, 20]\n"
     ]
    }
   ],
   "source": [
    "bb(arr)\n",
    "print(arr)"
   ]
  },
  {
   "cell_type": "code",
   "execution_count": 11,
   "id": "f40ee5ec-0938-45b3-b313-1e2ebd180287",
   "metadata": {},
   "outputs": [
    {
     "name": "stdout",
     "output_type": "stream",
     "text": [
      "['door', 'primary', 'red', 'second', 'tercius']\n"
     ]
    }
   ],
   "source": [
    "bb(arr1)\n",
    "print(arr1)"
   ]
  },
  {
   "cell_type": "code",
   "execution_count": null,
   "id": "6b2dc49d-4e01-4de1-a088-12039458ea0c",
   "metadata": {},
   "outputs": [],
   "source": []
  }
 ],
 "metadata": {
  "kernelspec": {
   "display_name": "Python 3 (ipykernel)",
   "language": "python",
   "name": "python3"
  },
  "language_info": {
   "codemirror_mode": {
    "name": "ipython",
    "version": 3
   },
   "file_extension": ".py",
   "mimetype": "text/x-python",
   "name": "python",
   "nbconvert_exporter": "python",
   "pygments_lexer": "ipython3",
   "version": "3.10.11"
  }
 },
 "nbformat": 4,
 "nbformat_minor": 5
}
